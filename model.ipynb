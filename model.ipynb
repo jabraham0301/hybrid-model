{
 "cells": [
  {
   "cell_type": "markdown",
   "metadata": {},
   "source": [
    "## Variables\n",
    "\n",
    "$VFTE$ = Projected Variable FTEs (Nurses,Therapists,etc.)\n",
    "\n",
    "$FV$ = Projected Volume (Consults,RX,etc.)\n",
    "\n",
    "$PPV$ = Pay Period Volume (Consults/month,etc.)\n",
    "\n",
    "$FW$ = Fixed Worked FTEs (Technicisians,etc.)\n",
    "\n",
    "$FP$ = Fixed Paid FTEs (Managers,analyst,etc.)\n",
    "\n",
    "$AFPWFTEs$ = Actual Fixed Paid Worked FTEs (Managers/month,etc.)\n",
    "\n",
    "$AFPPFTEs$ = Acual Fixed Paid Paid FTEs (Managers,etc.)\n",
    "\n",
    "## Functions\n",
    "\n",
    "$T_{total}=\\frac{\\frac{VFTE*80}{FV}*PPV}{80}+FW+FP*\\frac{AFPWFTEs}{AFPPFTEs}$"
   ]
  },
  {
   "cell_type": "code",
   "execution_count": 9,
   "metadata": {},
   "outputs": [
    {
     "name": "stdout",
     "output_type": "stream",
     "text": [
      "31.0\n"
     ]
    }
   ],
   "source": [
    "# RX Service Simulation\n",
    "# Projected Radiologysts\n",
    "variable_ftes=24.0\n",
    "# Projected Technical personel\n",
    "fixed_worked=4.5\n",
    "# Projected Manager\n",
    "fixed_paid=1.0\n",
    "# Projected Volume\n",
    "volume=4800\n",
    "# WHPUOS\n",
    "whpuos=(variable_ftes*80)/volume\n",
    "# Pay period volume, change every pay period\n",
    "pp_volume=5300\n",
    "# Actual Fixed Paid Worked\n",
    "actual_fpw_ftes=0\n",
    "# calculation\n",
    "t_variable=(whpuos*pp_volume)/80\n",
    "t_total=t_variable+fixed_worked+fixed_paid*(actual_fpw_ftes/fixed_paid)\n",
    "print(t_total)"
   ]
  }
 ],
 "metadata": {
  "kernelspec": {
   "display_name": "Python 3",
   "language": "python",
   "name": "python3"
  },
  "language_info": {
   "codemirror_mode": {
    "name": "ipython",
    "version": 3
   },
   "file_extension": ".py",
   "mimetype": "text/x-python",
   "name": "python",
   "nbconvert_exporter": "python",
   "pygments_lexer": "ipython3",
   "version": "3.8.8rc1"
  },
  "orig_nbformat": 4
 },
 "nbformat": 4,
 "nbformat_minor": 2
}
